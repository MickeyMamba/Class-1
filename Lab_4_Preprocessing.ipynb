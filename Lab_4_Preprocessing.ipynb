{
  "nbformat": 4,
  "nbformat_minor": 0,
  "metadata": {
    "colab": {
      "name": "Lab 4 - Preprocessing.ipynb",
      "provenance": [],
      "collapsed_sections": [],
      "include_colab_link": true
    },
    "kernelspec": {
      "name": "python3",
      "display_name": "Python 3"
    }
  },
  "cells": [
    {
      "cell_type": "markdown",
      "metadata": {
        "id": "view-in-github",
        "colab_type": "text"
      },
      "source": [
        "<a href=\"https://colab.research.google.com/github/MickeyMamba/Class-1/blob/master/Lab_4_Preprocessing.ipynb\" target=\"_parent\"><img src=\"https://colab.research.google.com/assets/colab-badge.svg\" alt=\"Open In Colab\"/></a>"
      ]
    },
    {
      "cell_type": "markdown",
      "metadata": {
        "id": "twKpLeRhDeyQ"
      },
      "source": [
        "# Data Preprocessing\n",
        "\n",
        "In this lab, we will set up a **data pipeline** in order to leave the data ready for analysis. Data preprocessing tends to be, by far, the most time-consuming step of the data science process. Errors in this step propagate to the model, so it is really important we do this correctly.\n",
        "\n",
        "The goal of this step is to leave the date ready to apply models to it. \n",
        "\n",
        "Every problem has its own set of data preprocessing functions to apply it to, but we will focus on the ones most common in classification models. In general we want to:\n",
        "\n",
        "1. Eliminate redundant variables.\n",
        "2. Treat null values.\n",
        "3. Treat outliers.\n",
        "4. Remove correlated features.\n",
        "\n",
        "For this goal we will use the excellent [```scikit-learn```](https://scikit-learn.org/stable/) package, which comes with most data-intensive operations. We will also use today (and during the rest of the module) the [```pandas```](https://pandas.pydata.org/) package, which allows for data handling in general."
      ]
    },
    {
      "cell_type": "markdown",
      "metadata": {
        "id": "tTKdVYZLGm-b"
      },
      "source": [
        "## Reading the data\n",
        "\n",
        "Let's download the Bankloan data. I have slightly modified it removing the PD and LGD information (as we will now estimate our own). As a reminder, it has the following variables:\n",
        "\n",
        "- Customer: ID, or unique label, of the borrower (NOT predictive).\n",
        "- Age: Age of the borrower in years.\n",
        "- Education: Maximum education level the borrower reached.\n",
        "1: Complete primary. 2: Completed Secondary. 3: Incomplete Higher Ed. 4: Complete Higher Ed. 5: With postgraduate studies (complete MSc or PhD).\n",
        "- Employ: Years at current job.\n",
        "- Address: Years at current address.\n",
        "- Income: Income in ‘000s USD.\n",
        "- Leverage: Debt/Income Ratio.\n",
        "- CredDebt: Credit card standing debt.\n",
        "- OthDebt: Other debt in ‘000s USD.\n",
        "- MonthlyLoad: Monthly percentage from salary used to repay debts.\n",
        "- Default: 1 If default has occurred, 0 if not (Target variable).\n",
        "\n",
        "We will download it now directly from a link, using the more ubiquitous [```wget```](http://www.gnu.org/software/wget/) command. The command is\n",
        "\n",
        "```\n",
        "wget [-options] path\n",
        "```\n",
        "\n",
        "We need to add the options ```--no-check-certificate``` and ```--output-document=FILENAME``` so it downloads ok."
      ]
    },
    {
      "cell_type": "code",
      "metadata": {
        "id": "g3v98YWoGla0",
        "outputId": "385d720e-d5c5-4111-c5cb-4ad5980be633",
        "colab": {
          "base_uri": "https://localhost:8080/",
          "height": 349
        }
      },
      "source": [
        "!wget --no-check-certificate --output-document=Bankloan.csv 'https://docs.google.com/spreadsheets/d/1nUJ1fA5f1VeMvulknpsvxpy0GW3CekNnhgeLRK0WlDI/export?gid=1016776666&format=csv'"
      ],
      "execution_count": null,
      "outputs": [
        {
          "output_type": "stream",
          "text": [
            "--2020-10-23 15:42:28--  https://docs.google.com/spreadsheets/d/1nUJ1fA5f1VeMvulknpsvxpy0GW3CekNnhgeLRK0WlDI/export?gid=1016776666&format=csv\n",
            "Resolving docs.google.com (docs.google.com)... 172.217.214.113, 172.217.214.139, 172.217.214.138, ...\n",
            "Connecting to docs.google.com (docs.google.com)|172.217.214.113|:443... connected.\n",
            "HTTP request sent, awaiting response... 307 Temporary Redirect\n",
            "Location: https://doc-0o-8s-sheets.googleusercontent.com/export/l5l039s6ni5uumqbsj9o11lmdc/0sd9istr0lis4gmj9phh8u5rqc/1603467745000/102123285539774178265/*/1nUJ1fA5f1VeMvulknpsvxpy0GW3CekNnhgeLRK0WlDI?gid=1016776666&format=csv [following]\n",
            "Warning: wildcards not supported in HTTP.\n",
            "--2020-10-23 15:42:28--  https://doc-0o-8s-sheets.googleusercontent.com/export/l5l039s6ni5uumqbsj9o11lmdc/0sd9istr0lis4gmj9phh8u5rqc/1603467745000/102123285539774178265/*/1nUJ1fA5f1VeMvulknpsvxpy0GW3CekNnhgeLRK0WlDI?gid=1016776666&format=csv\n",
            "Resolving doc-0o-8s-sheets.googleusercontent.com (doc-0o-8s-sheets.googleusercontent.com)... 74.125.124.132, 2607:f8b0:4001:c14::84\n",
            "Connecting to doc-0o-8s-sheets.googleusercontent.com (doc-0o-8s-sheets.googleusercontent.com)|74.125.124.132|:443... connected.\n",
            "HTTP request sent, awaiting response... 200 OK\n",
            "Length: unspecified [text/csv]\n",
            "Saving to: ‘Bankloan.csv’\n",
            "\n",
            "Bankloan.csv            [ <=>                ]  65.50K  --.-KB/s    in 0.009s  \n",
            "\n",
            "2020-10-23 15:42:29 (7.47 MB/s) - ‘Bankloan.csv’ saved [67077]\n",
            "\n"
          ],
          "name": "stdout"
        }
      ]
    },
    {
      "cell_type": "markdown",
      "metadata": {
        "id": "_ExNpn4rMwfT"
      },
      "source": [
        "To check what we downloaded we can use the ```head``` OS command."
      ]
    },
    {
      "cell_type": "code",
      "metadata": {
        "id": "oz4xRtSDM20o",
        "outputId": "e2d69bcd-2acd-4794-903b-69390284f977",
        "colab": {
          "base_uri": "https://localhost:8080/",
          "height": 201
        }
      },
      "source": [
        "!head Bankloan.csv"
      ],
      "execution_count": null,
      "outputs": [
        {
          "output_type": "stream",
          "text": [
            "customer,Age,Education,Employ,Address,Income,Leverage,Creddebt,OthDebt,MonthlyLoad,Default\r\n",
            "10012,28,Med,7,2,44,17.7,2.99,4.8,0.58,0\r\n",
            "10017,64,Posg,34,17,116,14.7,5.05,12,0.27,0\r\n",
            "10030,40,Bas,20,12,61,4.8,1.04,1.89,0.13,0\r\n",
            "10039,30,Bas,11,3,27,34.5,1.75,7.56,1.62,0\r\n",
            "10069,25,Bas,2,2,30,22.4,0.76,5.96,0.97,1\r\n",
            "10071,35,Bas,2,9,38,10.9,1.46,2.68,0.4,1\r\n",
            "10096,26,SupInc,2,4,38,11.9,0.95,3.57,0.43,1\r\n",
            "10128,25,Bas,4,2,30,14.4,1.05,3.27,0.62,0\r\n",
            "10129,65,SupCom,29,14,189,5,3.36,6.09,0.08,0\r\n"
          ],
          "name": "stdout"
        }
      ]
    },
    {
      "cell_type": "markdown",
      "metadata": {
        "id": "k5sgZk3lMtIK"
      },
      "source": [
        "Now we will use Pandas to read the CSV file. The  function to do so is [```read_csv```](https://pandas.pydata.org/pandas-docs/stable/reference/api/pandas.read_csv.html). We will store the results in a variable named ```bankloan_data```."
      ]
    },
    {
      "cell_type": "code",
      "metadata": {
        "id": "Wj-Yl2t5JW0Y"
      },
      "source": [
        "import pandas as pd\n",
        "\n",
        "bankloan_data = pd.read_csv('Bankloan.csv')"
      ],
      "execution_count": null,
      "outputs": []
    },
    {
      "cell_type": "markdown",
      "metadata": {
        "id": "i2A_hACkDcxY"
      },
      "source": [
        "As a reminder, here are the summary statistics of the variables."
      ]
    },
    {
      "cell_type": "code",
      "metadata": {
        "id": "XpypXLF6Nm9B",
        "outputId": "5166e991-6f30-4e18-b284-995fe24acc8f",
        "colab": {
          "base_uri": "https://localhost:8080/",
          "height": 320
        }
      },
      "source": [
        "bankloan_data.describe()"
      ],
      "execution_count": null,
      "outputs": [
        {
          "output_type": "execute_result",
          "data": {
            "text/html": [
              "<div>\n",
              "<style scoped>\n",
              "    .dataframe tbody tr th:only-of-type {\n",
              "        vertical-align: middle;\n",
              "    }\n",
              "\n",
              "    .dataframe tbody tr th {\n",
              "        vertical-align: top;\n",
              "    }\n",
              "\n",
              "    .dataframe thead th {\n",
              "        text-align: right;\n",
              "    }\n",
              "</style>\n",
              "<table border=\"1\" class=\"dataframe\">\n",
              "  <thead>\n",
              "    <tr style=\"text-align: right;\">\n",
              "      <th></th>\n",
              "      <th>customer</th>\n",
              "      <th>Age</th>\n",
              "      <th>Employ</th>\n",
              "      <th>Address</th>\n",
              "      <th>Income</th>\n",
              "      <th>Leverage</th>\n",
              "      <th>Creddebt</th>\n",
              "      <th>OthDebt</th>\n",
              "      <th>MonthlyLoad</th>\n",
              "      <th>Default</th>\n",
              "    </tr>\n",
              "  </thead>\n",
              "  <tbody>\n",
              "    <tr>\n",
              "      <th>count</th>\n",
              "      <td>1500.000000</td>\n",
              "      <td>1500.000000</td>\n",
              "      <td>1500.000000</td>\n",
              "      <td>1499.000000</td>\n",
              "      <td>1499.000000</td>\n",
              "      <td>1499.000000</td>\n",
              "      <td>1499.000000</td>\n",
              "      <td>1489.000000</td>\n",
              "      <td>1500.000000</td>\n",
              "      <td>1500.000000</td>\n",
              "    </tr>\n",
              "    <tr>\n",
              "      <th>mean</th>\n",
              "      <td>257714.548000</td>\n",
              "      <td>34.174000</td>\n",
              "      <td>6.952000</td>\n",
              "      <td>6.309540</td>\n",
              "      <td>59.615077</td>\n",
              "      <td>677.046631</td>\n",
              "      <td>1.936197</td>\n",
              "      <td>3.872257</td>\n",
              "      <td>0.365447</td>\n",
              "      <td>0.365333</td>\n",
              "    </tr>\n",
              "    <tr>\n",
              "      <th>std</th>\n",
              "      <td>139555.147719</td>\n",
              "      <td>13.142306</td>\n",
              "      <td>8.977644</td>\n",
              "      <td>6.047563</td>\n",
              "      <td>67.144768</td>\n",
              "      <td>25828.218141</td>\n",
              "      <td>2.974485</td>\n",
              "      <td>5.343150</td>\n",
              "      <td>0.293937</td>\n",
              "      <td>0.481684</td>\n",
              "    </tr>\n",
              "    <tr>\n",
              "      <th>min</th>\n",
              "      <td>10012.000000</td>\n",
              "      <td>18.000000</td>\n",
              "      <td>0.000000</td>\n",
              "      <td>0.000000</td>\n",
              "      <td>12.000000</td>\n",
              "      <td>0.100000</td>\n",
              "      <td>0.000000</td>\n",
              "      <td>0.100000</td>\n",
              "      <td>0.000000</td>\n",
              "      <td>0.000000</td>\n",
              "    </tr>\n",
              "    <tr>\n",
              "      <th>25%</th>\n",
              "      <td>98638.750000</td>\n",
              "      <td>24.000000</td>\n",
              "      <td>0.000000</td>\n",
              "      <td>2.000000</td>\n",
              "      <td>27.000000</td>\n",
              "      <td>4.800000</td>\n",
              "      <td>0.420000</td>\n",
              "      <td>1.120000</td>\n",
              "      <td>0.150000</td>\n",
              "      <td>0.000000</td>\n",
              "    </tr>\n",
              "    <tr>\n",
              "      <th>50%</th>\n",
              "      <td>315991.500000</td>\n",
              "      <td>31.000000</td>\n",
              "      <td>4.000000</td>\n",
              "      <td>5.000000</td>\n",
              "      <td>40.000000</td>\n",
              "      <td>8.500000</td>\n",
              "      <td>0.990000</td>\n",
              "      <td>2.240000</td>\n",
              "      <td>0.290000</td>\n",
              "      <td>0.000000</td>\n",
              "    </tr>\n",
              "    <tr>\n",
              "      <th>75%</th>\n",
              "      <td>370701.500000</td>\n",
              "      <td>42.000000</td>\n",
              "      <td>10.000000</td>\n",
              "      <td>9.000000</td>\n",
              "      <td>64.000000</td>\n",
              "      <td>13.600000</td>\n",
              "      <td>2.200000</td>\n",
              "      <td>4.610000</td>\n",
              "      <td>0.500000</td>\n",
              "      <td>1.000000</td>\n",
              "    </tr>\n",
              "    <tr>\n",
              "      <th>max</th>\n",
              "      <td>453777.000000</td>\n",
              "      <td>79.000000</td>\n",
              "      <td>63.000000</td>\n",
              "      <td>34.000000</td>\n",
              "      <td>1079.000000</td>\n",
              "      <td>999999.000000</td>\n",
              "      <td>35.970000</td>\n",
              "      <td>63.470000</td>\n",
              "      <td>2.150000</td>\n",
              "      <td>1.000000</td>\n",
              "    </tr>\n",
              "  </tbody>\n",
              "</table>\n",
              "</div>"
            ],
            "text/plain": [
              "            customer          Age  ...  MonthlyLoad      Default\n",
              "count    1500.000000  1500.000000  ...  1500.000000  1500.000000\n",
              "mean   257714.548000    34.174000  ...     0.365447     0.365333\n",
              "std    139555.147719    13.142306  ...     0.293937     0.481684\n",
              "min     10012.000000    18.000000  ...     0.000000     0.000000\n",
              "25%     98638.750000    24.000000  ...     0.150000     0.000000\n",
              "50%    315991.500000    31.000000  ...     0.290000     0.000000\n",
              "75%    370701.500000    42.000000  ...     0.500000     1.000000\n",
              "max    453777.000000    79.000000  ...     2.150000     1.000000\n",
              "\n",
              "[8 rows x 10 columns]"
            ]
          },
          "metadata": {
            "tags": []
          },
          "execution_count": 4
        }
      ]
    },
    {
      "cell_type": "code",
      "metadata": {
        "id": "wcp4xeZwpuqi",
        "outputId": "2e65980b-89e4-4b17-ada9-619db996068e",
        "colab": {
          "base_uri": "https://localhost:8080/",
          "height": 72
        }
      },
      "source": [
        "bankloan_data.columns"
      ],
      "execution_count": null,
      "outputs": [
        {
          "output_type": "execute_result",
          "data": {
            "text/plain": [
              "Index(['customer', 'Age', 'Education', 'Employ', 'Address', 'Income',\n",
              "       'Leverage', 'Creddebt', 'OthDebt', 'MonthlyLoad', 'Default'],\n",
              "      dtype='object')"
            ]
          },
          "metadata": {
            "tags": []
          },
          "execution_count": 5
        }
      ]
    },
    {
      "cell_type": "markdown",
      "metadata": {
        "id": "-m5-Xr8lP5Gm"
      },
      "source": [
        "We can see there are a few null values in different variables and apparently an invalid outlier in Leverage.  Let's visualize the dataset using seaborn to get an idea of the distribution."
      ]
    },
    {
      "cell_type": "code",
      "metadata": {
        "id": "dnkTHoUiP4fj"
      },
      "source": [
        "import matplotlib.pyplot as plt\n",
        "import seaborn as sns\n",
        "import numpy as np\n",
        "%matplotlib inline"
      ],
      "execution_count": null,
      "outputs": []
    },
    {
      "cell_type": "code",
      "metadata": {
        "id": "Oc-0gLkpPTgu",
        "outputId": "7658de4d-0846-4afa-f235-89b28395c87b",
        "colab": {
          "base_uri": "https://localhost:8080/",
          "height": 1000
        }
      },
      "source": [
        "sns.set(color_codes=True)\n",
        "\n",
        "for col_id in bankloan_data.columns[np.r_[1,3:9]]:\n",
        "    sns.displot(data = bankloan_data, x = col_id, hue = \"Default\", kind = 'kde')"
      ],
      "execution_count": null,
      "outputs": [
        {
          "output_type": "display_data",
          "data": {
            "image/png": "[encoded data removed]",
            "text/plain": [
              "<Figure size 412.925x360 with 1 Axes>"
            ]
          },
          "metadata": {
            "tags": []
          }
        },
        {
          "output_type": "display_data",
          "data": {
            "image/png": "[encoded data removed]",
            "text/plain": [
              "<Figure size 412.925x360 with 1 Axes>"
            ]
          },
          "metadata": {
            "tags": []
          }
        },
        {
          "output_type": "display_data",
          "data": {
            "image/png": "[encoded data removed]",
            "text/plain": [
              "<Figure size 412.925x360 with 1 Axes>"
            ]
          },
          "metadata": {
            "tags": []
          }
        },
        {
          "output_type": "display_data",
          "data": {
            "image/png": "[encoded data removed]",
            "text/plain": [
              "<Figure size 412.925x360 with 1 Axes>"
            ]
          },
          "metadata": {
            "tags": []
          }
        },
        {
          "output_type": "display_data",
          "data": {
            "image/png": "[encoded data removed]",
            "text/plain": [
              "<Figure size 412.925x360 with 1 Axes>"
            ]
          },
          "metadata": {
            "tags": []
          }
        },
        {
          "output_type": "display_data",
          "data": {
            "image/png": "[encoded data removed]",
            "text/plain": [
              "<Figure size 412.925x360 with 1 Axes>"
            ]
          },
          "metadata": {
            "tags": []
          }
        },
        {
          "output_type": "display_data",
          "data": {
            "image/png": "[encoded data removed]",
            "text/plain": [
              "<Figure size 412.925x360 with 1 Axes>"
            ]
          },
          "metadata": {
            "tags": []
          }
        }
      ]
    },
    {
      "cell_type": "markdown",
      "metadata": {
        "id": "DohsQiAl0LJq"
      },
      "source": [
        "Seaborn can do many sophisticated (and aestetically pleasing) \n",
        "graphs. Go to [the Gallery](https://seaborn.pydata.org/examples/index.html) for details and example code. \n",
        "\n",
        "There are severe outliers in OthDebt, Leverage, Creddebt and Income, but we don't know which ones are valid and which invalid. We will treat these now."
      ]
    },
    {
      "cell_type": "markdown",
      "metadata": {
        "id": "HZLgIWHqSvts"
      },
      "source": [
        "## Data Cleaning\n",
        "\n",
        "Now we can focus on cleaning the data. Let's start with the easy part: removing null values. **Remember to check when an outlier is a missing value** (invalid outliers).\n",
        "\n",
        "### Null values\n",
        "\n",
        "The core function here will be Panda's [```fillna```](https://pandas.pydata.org/pandas-docs/stable/reference/api/pandas.DataFrame.fillna.html). This allows to replace all null values (represented by None or NaN in Python) by a certain value. This also allows to set what the replacement will be with the ```value``` argument. See the help for details.\n",
        "\n",
        "Remember the strategies to deal :\n",
        "\n",
        "1. Keep: If the null values are a category by themselves. In this case, replace by something meaningful.\n",
        "\n",
        "2. Delete: If the null values are too many **either by row or by column** then it is better to just drop the case or the variable.\n",
        "\n",
        "3. Replace: If there are only a few missings for the variable or the row (<1% total), replace by the  replace the null values by the **median** for continous variables, and the **mode** for categorical values.\n",
        "\n",
        "Let's study our dataset's null values. The [```isnull()```](https://pandas.pydata.org/pandas-docs/stable/reference/api/pandas.isnull.html) function returns which elements in the dataframe are null. The [```any()```](https://pandas.pydata.org/pandas-docs/stable/reference/api/pandas.DataFrame.any.html) function returns a list with whatever columns (default) or rows (passing ```axis = 1``` to the function) have any element with a boolean of true."
      ]
    },
    {
      "cell_type": "code",
      "metadata": {
        "id": "z-s-kkifWlud",
        "outputId": "c8875ae8-0c7a-49e9-cb97-dca39fa5403f",
        "colab": {
          "base_uri": "https://localhost:8080/",
          "height": 237
        }
      },
      "source": [
        "bankloan_data.isnull().any()"
      ],
      "execution_count": null,
      "outputs": [
        {
          "output_type": "execute_result",
          "data": {
            "text/plain": [
              "customer       False\n",
              "Age            False\n",
              "Education      False\n",
              "Employ         False\n",
              "Address         True\n",
              "Income          True\n",
              "Leverage        True\n",
              "Creddebt        True\n",
              "OthDebt         True\n",
              "MonthlyLoad    False\n",
              "Default        False\n",
              "dtype: bool"
            ]
          },
          "metadata": {
            "tags": []
          },
          "execution_count": 8
        }
      ]
    },
    {
      "cell_type": "markdown",
      "metadata": {
        "id": "H2Fp-LCjXv9s"
      },
      "source": [
        "We can see which columns have null values. Let's study them in further detail."
      ]
    },
    {
      "cell_type": "code",
      "metadata": {
        "id": "Tgc0zy6UX04R",
        "outputId": "d792996e-7086-4ffa-dd07-2a6e687af7e5",
        "colab": {
          "base_uri": "https://localhost:8080/",
          "height": 127
        }
      },
      "source": [
        "null_columns = bankloan_data.columns[bankloan_data.isnull().any()]\n",
        "bankloan_data[null_columns].isnull().sum()"
      ],
      "execution_count": null,
      "outputs": [
        {
          "output_type": "execute_result",
          "data": {
            "text/plain": [
              "Address      1\n",
              "Income       1\n",
              "Leverage     1\n",
              "Creddebt     1\n",
              "OthDebt     11\n",
              "dtype: int64"
            ]
          },
          "metadata": {
            "tags": []
          },
          "execution_count": 9
        }
      ]
    },
    {
      "cell_type": "markdown",
      "metadata": {
        "id": "OJ7_tgqsYLhj"
      },
      "source": [
        "Given the small number of cases for all variables except OthDebt, we can simply replace those values by the median.\n",
        "\n",
        "Let's study OthDebt cases more in detail."
      ]
    },
    {
      "cell_type": "code",
      "metadata": {
        "id": "9uFhZbqGYUqp",
        "outputId": "39e71838-ddc6-4931-de78-4e2bc08bb0ad",
        "colab": {
          "base_uri": "https://localhost:8080/",
          "height": 394
        }
      },
      "source": [
        "bankloan_data.loc[bankloan_data.isnull().any(axis = 1), :]"
      ],
      "execution_count": null,
      "outputs": [
        {
          "output_type": "execute_result",
          "data": {
            "text/html": [
              "<div>\n",
              "<style scoped>\n",
              "    .dataframe tbody tr th:only-of-type {\n",
              "        vertical-align: middle;\n",
              "    }\n",
              "\n",
              "    .dataframe tbody tr th {\n",
              "        vertical-align: top;\n",
              "    }\n",
              "\n",
              "    .dataframe thead th {\n",
              "        text-align: right;\n",
              "    }\n",
              "</style>\n",
              "<table border=\"1\" class=\"dataframe\">\n",
              "  <thead>\n",
              "    <tr style=\"text-align: right;\">\n",
              "      <th></th>\n",
              "      <th>customer</th>\n",
              "      <th>Age</th>\n",
              "      <th>Education</th>\n",
              "      <th>Employ</th>\n",
              "      <th>Address</th>\n",
              "      <th>Income</th>\n",
              "      <th>Leverage</th>\n",
              "      <th>Creddebt</th>\n",
              "      <th>OthDebt</th>\n",
              "      <th>MonthlyLoad</th>\n",
              "      <th>Default</th>\n",
              "    </tr>\n",
              "  </thead>\n",
              "  <tbody>\n",
              "    <tr>\n",
              "      <th>17</th>\n",
              "      <td>10423</td>\n",
              "      <td>19</td>\n",
              "      <td>Bas</td>\n",
              "      <td>2</td>\n",
              "      <td>0.0</td>\n",
              "      <td>31.0</td>\n",
              "      <td>0.3</td>\n",
              "      <td>0.02</td>\n",
              "      <td>NaN</td>\n",
              "      <td>0.01</td>\n",
              "      <td>1</td>\n",
              "    </tr>\n",
              "    <tr>\n",
              "      <th>247</th>\n",
              "      <td>71896</td>\n",
              "      <td>20</td>\n",
              "      <td>SupInc</td>\n",
              "      <td>0</td>\n",
              "      <td>0.0</td>\n",
              "      <td>21.0</td>\n",
              "      <td>1.3</td>\n",
              "      <td>0.18</td>\n",
              "      <td>NaN</td>\n",
              "      <td>0.07</td>\n",
              "      <td>1</td>\n",
              "    </tr>\n",
              "    <tr>\n",
              "      <th>255</th>\n",
              "      <td>72327</td>\n",
              "      <td>19</td>\n",
              "      <td>Med</td>\n",
              "      <td>0</td>\n",
              "      <td>NaN</td>\n",
              "      <td>NaN</td>\n",
              "      <td>NaN</td>\n",
              "      <td>NaN</td>\n",
              "      <td>NaN</td>\n",
              "      <td>0.01</td>\n",
              "      <td>1</td>\n",
              "    </tr>\n",
              "    <tr>\n",
              "      <th>293</th>\n",
              "      <td>74471</td>\n",
              "      <td>39</td>\n",
              "      <td>Bas</td>\n",
              "      <td>8</td>\n",
              "      <td>9.0</td>\n",
              "      <td>41.0</td>\n",
              "      <td>0.1</td>\n",
              "      <td>0.03</td>\n",
              "      <td>NaN</td>\n",
              "      <td>0.00</td>\n",
              "      <td>0</td>\n",
              "    </tr>\n",
              "    <tr>\n",
              "      <th>587</th>\n",
              "      <td>244023</td>\n",
              "      <td>31</td>\n",
              "      <td>SupCom</td>\n",
              "      <td>1</td>\n",
              "      <td>7.0</td>\n",
              "      <td>69.0</td>\n",
              "      <td>0.4</td>\n",
              "      <td>0.19</td>\n",
              "      <td>NaN</td>\n",
              "      <td>0.01</td>\n",
              "      <td>0</td>\n",
              "    </tr>\n",
              "    <tr>\n",
              "      <th>745</th>\n",
              "      <td>315892</td>\n",
              "      <td>22</td>\n",
              "      <td>SupInc</td>\n",
              "      <td>0</td>\n",
              "      <td>1.0</td>\n",
              "      <td>14.0</td>\n",
              "      <td>2.5</td>\n",
              "      <td>0.26</td>\n",
              "      <td>NaN</td>\n",
              "      <td>0.20</td>\n",
              "      <td>0</td>\n",
              "    </tr>\n",
              "    <tr>\n",
              "      <th>748</th>\n",
              "      <td>315948</td>\n",
              "      <td>41</td>\n",
              "      <td>Med</td>\n",
              "      <td>21</td>\n",
              "      <td>9.0</td>\n",
              "      <td>64.0</td>\n",
              "      <td>0.3</td>\n",
              "      <td>0.12</td>\n",
              "      <td>NaN</td>\n",
              "      <td>0.01</td>\n",
              "      <td>0</td>\n",
              "    </tr>\n",
              "    <tr>\n",
              "      <th>817</th>\n",
              "      <td>335635</td>\n",
              "      <td>18</td>\n",
              "      <td>Med</td>\n",
              "      <td>0</td>\n",
              "      <td>0.0</td>\n",
              "      <td>24.0</td>\n",
              "      <td>0.9</td>\n",
              "      <td>0.13</td>\n",
              "      <td>NaN</td>\n",
              "      <td>0.05</td>\n",
              "      <td>1</td>\n",
              "    </tr>\n",
              "    <tr>\n",
              "      <th>1194</th>\n",
              "      <td>372485</td>\n",
              "      <td>20</td>\n",
              "      <td>SupInc</td>\n",
              "      <td>0</td>\n",
              "      <td>0.0</td>\n",
              "      <td>13.0</td>\n",
              "      <td>1.1</td>\n",
              "      <td>0.05</td>\n",
              "      <td>NaN</td>\n",
              "      <td>0.10</td>\n",
              "      <td>0</td>\n",
              "    </tr>\n",
              "    <tr>\n",
              "      <th>1254</th>\n",
              "      <td>376801</td>\n",
              "      <td>23</td>\n",
              "      <td>SupCom</td>\n",
              "      <td>0</td>\n",
              "      <td>2.0</td>\n",
              "      <td>19.0</td>\n",
              "      <td>1.4</td>\n",
              "      <td>0.18</td>\n",
              "      <td>NaN</td>\n",
              "      <td>0.09</td>\n",
              "      <td>0</td>\n",
              "    </tr>\n",
              "    <tr>\n",
              "      <th>1395</th>\n",
              "      <td>382157</td>\n",
              "      <td>20</td>\n",
              "      <td>SupInc</td>\n",
              "      <td>0</td>\n",
              "      <td>0.0</td>\n",
              "      <td>13.0</td>\n",
              "      <td>999999.0</td>\n",
              "      <td>0.00</td>\n",
              "      <td>NaN</td>\n",
              "      <td>0.00</td>\n",
              "      <td>0</td>\n",
              "    </tr>\n",
              "  </tbody>\n",
              "</table>\n",
              "</div>"
            ],
            "text/plain": [
              "      customer  Age Education  Employ  ...  Creddebt  OthDebt  MonthlyLoad  Default\n",
              "17       10423   19       Bas       2  ...      0.02      NaN         0.01        1\n",
              "247      71896   20    SupInc       0  ...      0.18      NaN         0.07        1\n",
              "255      72327   19       Med       0  ...       NaN      NaN         0.01        1\n",
              "293      74471   39       Bas       8  ...      0.03      NaN         0.00        0\n",
              "587     244023   31    SupCom       1  ...      0.19      NaN         0.01        0\n",
              "745     315892   22    SupInc       0  ...      0.26      NaN         0.20        0\n",
              "748     315948   41       Med      21  ...      0.12      NaN         0.01        0\n",
              "817     335635   18       Med       0  ...      0.13      NaN         0.05        1\n",
              "1194    372485   20    SupInc       0  ...      0.05      NaN         0.10        0\n",
              "1254    376801   23    SupCom       0  ...      0.18      NaN         0.09        0\n",
              "1395    382157   20    SupInc       0  ...      0.00      NaN         0.00        0\n",
              "\n",
              "[11 rows x 11 columns]"
            ]
          },
          "metadata": {
            "tags": []
          },
          "execution_count": 10
        }
      ]
    },
    {
      "cell_type": "markdown",
      "metadata": {
        "id": "_ZWCGoKQYfvB"
      },
      "source": [
        "We can see all cases in which OthDebt is null. We can also see the egregious outlier that Leverage has, with a value of 9999999. These values give us some hints about what's happening with OthDebt. Let's study the minimum and maximum of the variables."
      ]
    },
    {
      "cell_type": "code",
      "metadata": {
        "id": "nD5BqZ5hYwcY",
        "outputId": "712186b6-dd9d-4bc7-af1b-525493116212",
        "colab": {
          "base_uri": "https://localhost:8080/",
          "height": 182
        }
      },
      "source": [
        "bankloan_data.OthDebt.describe()"
      ],
      "execution_count": null,
      "outputs": [
        {
          "output_type": "execute_result",
          "data": {
            "text/plain": [
              "count    1489.000000\n",
              "mean        3.872257\n",
              "std         5.343150\n",
              "min         0.100000\n",
              "25%         1.120000\n",
              "50%         2.240000\n",
              "75%         4.610000\n",
              "max        63.470000\n",
              "Name: OthDebt, dtype: float64"
            ]
          },
          "metadata": {
            "tags": []
          },
          "execution_count": 11
        }
      ]
    },
    {
      "cell_type": "markdown",
      "metadata": {
        "id": "KpgxTyujY0YD"
      },
      "source": [
        "Aha! Note anything? There are no values equal to 0! We can make a good guess that the null values are equal to zero. In real life we would call the sysadmins to confirm this, but in this case we can make a guess.\n",
        "\n",
        "Then, we now should fix these values as follow:\n",
        "\n",
        "1. Replace the leverage equal to 999999 by a zero value.\n",
        "2. Replace all OthDebt nulls by 0.\n",
        "3. Replace the remaining null values by the median."
      ]
    },
    {
      "cell_type": "code",
      "metadata": {
        "id": "Geu-R8RRa1Tf"
      },
      "source": [
        "# Replace invalid outlier.\n",
        "bankloan_data.Leverage.values[bankloan_data.Leverage.values == 999999] = 0"
      ],
      "execution_count": null,
      "outputs": []
    },
    {
      "cell_type": "code",
      "metadata": {
        "id": "BFaxJbmNKGcN"
      },
      "source": [
        "# Fills out the null values with zeros. Inplace argument changes dataframe.\n",
        "bankloan_data.OthDebt.fillna(value = 0, inplace=True)"
      ],
      "execution_count": null,
      "outputs": []
    },
    {
      "cell_type": "code",
      "metadata": {
        "id": "ceQ6j1xnxHDm"
      },
      "source": [
        "# Remove null case\n",
        "bankloan_data.drop(index=255, axis = 0, inplace = True)"
      ],
      "execution_count": null,
      "outputs": []
    },
    {
      "cell_type": "code",
      "metadata": {
        "id": "R06ZbW0DcN6f"
      },
      "source": [
        "# Fill out remaining elements.\n",
        "bankloan_data.fillna(bankloan_data.median(), inplace=True)"
      ],
      "execution_count": null,
      "outputs": []
    },
    {
      "cell_type": "code",
      "metadata": {
        "id": "QgFDQXyBiHiU",
        "outputId": "2906d38c-a097-4c92-e9cd-d932cb4c69c1",
        "colab": {
          "base_uri": "https://localhost:8080/",
          "height": 320
        }
      },
      "source": [
        "bankloan_data.describe()"
      ],
      "execution_count": null,
      "outputs": [
        {
          "output_type": "execute_result",
          "data": {
            "text/html": [
              "<div>\n",
              "<style scoped>\n",
              "    .dataframe tbody tr th:only-of-type {\n",
              "        vertical-align: middle;\n",
              "    }\n",
              "\n",
              "    .dataframe tbody tr th {\n",
              "        vertical-align: top;\n",
              "    }\n",
              "\n",
              "    .dataframe thead th {\n",
              "        text-align: right;\n",
              "    }\n",
              "</style>\n",
              "<table border=\"1\" class=\"dataframe\">\n",
              "  <thead>\n",
              "    <tr style=\"text-align: right;\">\n",
              "      <th></th>\n",
              "      <th>customer</th>\n",
              "      <th>Age</th>\n",
              "      <th>Employ</th>\n",
              "      <th>Address</th>\n",
              "      <th>Income</th>\n",
              "      <th>Leverage</th>\n",
              "      <th>Creddebt</th>\n",
              "      <th>OthDebt</th>\n",
              "      <th>MonthlyLoad</th>\n",
              "      <th>Default</th>\n",
              "    </tr>\n",
              "  </thead>\n",
              "  <tbody>\n",
              "    <tr>\n",
              "      <th>count</th>\n",
              "      <td>1499.000000</td>\n",
              "      <td>1499.000000</td>\n",
              "      <td>1499.000000</td>\n",
              "      <td>1499.000000</td>\n",
              "      <td>1499.000000</td>\n",
              "      <td>1499.000000</td>\n",
              "      <td>1499.000000</td>\n",
              "      <td>1499.000000</td>\n",
              "      <td>1499.000000</td>\n",
              "      <td>1499.000000</td>\n",
              "    </tr>\n",
              "    <tr>\n",
              "      <th>mean</th>\n",
              "      <td>257838.222148</td>\n",
              "      <td>34.184123</td>\n",
              "      <td>6.956638</td>\n",
              "      <td>6.309540</td>\n",
              "      <td>59.615077</td>\n",
              "      <td>9.935891</td>\n",
              "      <td>1.936197</td>\n",
              "      <td>3.846424</td>\n",
              "      <td>0.365684</td>\n",
              "      <td>0.364910</td>\n",
              "    </tr>\n",
              "    <tr>\n",
              "      <th>std</th>\n",
              "      <td>139519.468502</td>\n",
              "      <td>13.140841</td>\n",
              "      <td>8.978843</td>\n",
              "      <td>6.047563</td>\n",
              "      <td>67.144768</td>\n",
              "      <td>6.669274</td>\n",
              "      <td>2.974485</td>\n",
              "      <td>5.334613</td>\n",
              "      <td>0.293891</td>\n",
              "      <td>0.481566</td>\n",
              "    </tr>\n",
              "    <tr>\n",
              "      <th>min</th>\n",
              "      <td>10012.000000</td>\n",
              "      <td>18.000000</td>\n",
              "      <td>0.000000</td>\n",
              "      <td>0.000000</td>\n",
              "      <td>12.000000</td>\n",
              "      <td>0.000000</td>\n",
              "      <td>0.000000</td>\n",
              "      <td>0.000000</td>\n",
              "      <td>0.000000</td>\n",
              "      <td>0.000000</td>\n",
              "    </tr>\n",
              "    <tr>\n",
              "      <th>25%</th>\n",
              "      <td>98663.000000</td>\n",
              "      <td>24.000000</td>\n",
              "      <td>0.000000</td>\n",
              "      <td>2.000000</td>\n",
              "      <td>27.000000</td>\n",
              "      <td>4.800000</td>\n",
              "      <td>0.420000</td>\n",
              "      <td>1.110000</td>\n",
              "      <td>0.150000</td>\n",
              "      <td>0.000000</td>\n",
              "    </tr>\n",
              "    <tr>\n",
              "      <th>50%</th>\n",
              "      <td>316013.000000</td>\n",
              "      <td>31.000000</td>\n",
              "      <td>4.000000</td>\n",
              "      <td>5.000000</td>\n",
              "      <td>40.000000</td>\n",
              "      <td>8.500000</td>\n",
              "      <td>0.990000</td>\n",
              "      <td>2.220000</td>\n",
              "      <td>0.290000</td>\n",
              "      <td>0.000000</td>\n",
              "    </tr>\n",
              "    <tr>\n",
              "      <th>75%</th>\n",
              "      <td>370708.000000</td>\n",
              "      <td>42.000000</td>\n",
              "      <td>10.000000</td>\n",
              "      <td>9.000000</td>\n",
              "      <td>64.000000</td>\n",
              "      <td>13.550000</td>\n",
              "      <td>2.200000</td>\n",
              "      <td>4.575000</td>\n",
              "      <td>0.500000</td>\n",
              "      <td>1.000000</td>\n",
              "    </tr>\n",
              "    <tr>\n",
              "      <th>max</th>\n",
              "      <td>453777.000000</td>\n",
              "      <td>79.000000</td>\n",
              "      <td>63.000000</td>\n",
              "      <td>34.000000</td>\n",
              "      <td>1079.000000</td>\n",
              "      <td>40.700000</td>\n",
              "      <td>35.970000</td>\n",
              "      <td>63.470000</td>\n",
              "      <td>2.150000</td>\n",
              "      <td>1.000000</td>\n",
              "    </tr>\n",
              "  </tbody>\n",
              "</table>\n",
              "</div>"
            ],
            "text/plain": [
              "            customer          Age  ...  MonthlyLoad      Default\n",
              "count    1499.000000  1499.000000  ...  1499.000000  1499.000000\n",
              "mean   257838.222148    34.184123  ...     0.365684     0.364910\n",
              "std    139519.468502    13.140841  ...     0.293891     0.481566\n",
              "min     10012.000000    18.000000  ...     0.000000     0.000000\n",
              "25%     98663.000000    24.000000  ...     0.150000     0.000000\n",
              "50%    316013.000000    31.000000  ...     0.290000     0.000000\n",
              "75%    370708.000000    42.000000  ...     0.500000     1.000000\n",
              "max    453777.000000    79.000000  ...     2.150000     1.000000\n",
              "\n",
              "[8 rows x 10 columns]"
            ]
          },
          "metadata": {
            "tags": []
          },
          "execution_count": 16
        }
      ]
    },
    {
      "cell_type": "markdown",
      "metadata": {
        "id": "rwY4w7DAcwyE"
      },
      "source": [
        "There are no more null values! We are now ready to study the distributions."
      ]
    },
    {
      "cell_type": "markdown",
      "metadata": {
        "id": "1hpzkfzwiPyB"
      },
      "source": [
        "### Outlier cleaning\n",
        "\n",
        "Cleaning outlier, on the other hand, requires a much more manual intervention. We know there are three variables we need to intervene in: Income, Creddebt, and OthDebt. In general, we would like to modify all cases where there is either a discontinuous distribution or a case that is outside of 3 to 6 standard deviations.\n",
        "\n",
        "It is very important to use your judgement in this! Don't just cut in 3 stds, as that is too restrictive in an exponential distribution. If you want to get an idea of the values, then seaborn can help. The function ```displot``` with either the option ```hist``` or ```kde``` allows to check the distribution of values."
      ]
    },
    {
      "cell_type": "code",
      "metadata": {
        "id": "dCOmLnVpiOVo",
        "outputId": "d3f42e6e-3b4e-4598-a073-ba4685b1b582",
        "colab": {
          "base_uri": "https://localhost:8080/",
          "height": 365
        }
      },
      "source": [
        "fig = sns.displot(bankloan_data['Income'], kind = 'hist')\n",
        "plt.savefig('Income.pdf')\n",
        "plt.show()"
      ],
      "execution_count": null,
      "outputs": [
        {
          "output_type": "display_data",
          "data": {
            "image/png": "[encoded data removed]",
            "text/plain": [
              "<Figure size 360x360 with 1 Axes>"
            ]
          },
          "metadata": {
            "tags": []
          }
        }
      ]
    },
    {
      "cell_type": "code",
      "metadata": {
        "id": "hCvswT9-jagR",
        "outputId": "53091e8f-a818-41dd-aae0-94f489abae26",
        "colab": {
          "base_uri": "https://localhost:8080/",
          "height": 383
        }
      },
      "source": [
        "sns.displot(bankloan_data['Creddebt'], kind = 'kde')"
      ],
      "execution_count": null,
      "outputs": [
        {
          "output_type": "execute_result",
          "data": {
            "text/plain": [
              "<seaborn.axisgrid.FacetGrid at 0x7f8b51c8aa20>"
            ]
          },
          "metadata": {
            "tags": []
          },
          "execution_count": 18
        },
        {
          "output_type": "display_data",
          "data": {
            "image/png": "[encoded data removed]",
            "text/plain": [
              "<Figure size 360x360 with 1 Axes>"
            ]
          },
          "metadata": {
            "tags": []
          }
        }
      ]
    },
    {
      "cell_type": "code",
      "metadata": {
        "id": "IPA95piMjhLv",
        "outputId": "1ddfeb6c-d438-4db9-a5da-0c4721e9609f",
        "colab": {
          "base_uri": "https://localhost:8080/",
          "height": 383
        }
      },
      "source": [
        "sns.displot(data = bankloan_data, x = 'OthDebt', kind = 'kde', hue = 'Default')"
      ],
      "execution_count": null,
      "outputs": [
        {
          "output_type": "execute_result",
          "data": {
            "text/plain": [
              "<seaborn.axisgrid.FacetGrid at 0x7f8b51c696a0>"
            ]
          },
          "metadata": {
            "tags": []
          },
          "execution_count": 19
        },
        {
          "output_type": "display_data",
          "data": {
            "image/png": "[encoded data removed]",
            "text/plain": [
              "<Figure size 412.925x360 with 1 Axes>"
            ]
          },
          "metadata": {
            "tags": []
          }
        }
      ]
    },
    {
      "cell_type": "markdown",
      "metadata": {
        "id": "QtGBJQw6jnmm"
      },
      "source": [
        "All variables, except for OthDebt, need to be trimmed from the right. Potential cutoffs are Income of 600 and Creddebt of 20.\n",
        "\n",
        "To actually cut the values, then we can simply write a proper expression in Pandas:"
      ]
    },
    {
      "cell_type": "code",
      "metadata": {
        "id": "HWhH4fgcji1G"
      },
      "source": [
        "bankloan_data = bankloan_data.loc[(bankloan_data['Income'] < 600) & (bankloan_data['Creddebt'] < 20)]"
      ],
      "execution_count": null,
      "outputs": []
    },
    {
      "cell_type": "markdown",
      "metadata": {
        "id": "BpbVxiJQmOBs"
      },
      "source": [
        "We can check now how the data looks like."
      ]
    },
    {
      "cell_type": "code",
      "metadata": {
        "id": "wgUVYbTKlpQT",
        "outputId": "867d36df-03a1-4110-bf3e-92ab0862a235",
        "colab": {
          "base_uri": "https://localhost:8080/",
          "height": 381
        }
      },
      "source": [
        "fig, ax = plt.subplots(figsize=(10,5))\n",
        "a = sns.violinplot(x='variable', y='value', data=pd.melt(bankloan_data.iloc[:, np.r_[1,3:9]]), ax=ax)\n",
        "a.set_xticklabels(a.get_xticklabels(), rotation=90);"
      ],
      "execution_count": null,
      "outputs": [
        {
          "output_type": "display_data",
          "data": {
            "image/png": "[encoded data removed]",
            "text/plain": [
              "<Figure size 720x360 with 1 Axes>"
            ]
          },
          "metadata": {
            "tags": []
          }
        }
      ]
    },
    {
      "cell_type": "code",
      "metadata": {
        "id": "qFia8JlY0WU1",
        "outputId": "b94d8b02-87b8-4f3d-c9e4-0264e67af664",
        "colab": {
          "base_uri": "https://localhost:8080/",
          "height": 320
        }
      },
      "source": [
        "bankloan_data.describe()"
      ],
      "execution_count": null,
      "outputs": [
        {
          "output_type": "execute_result",
          "data": {
            "text/html": [
              "<div>\n",
              "<style scoped>\n",
              "    .dataframe tbody tr th:only-of-type {\n",
              "        vertical-align: middle;\n",
              "    }\n",
              "\n",
              "    .dataframe tbody tr th {\n",
              "        vertical-align: top;\n",
              "    }\n",
              "\n",
              "    .dataframe thead th {\n",
              "        text-align: right;\n",
              "    }\n",
              "</style>\n",
              "<table border=\"1\" class=\"dataframe\">\n",
              "  <thead>\n",
              "    <tr style=\"text-align: right;\">\n",
              "      <th></th>\n",
              "      <th>customer</th>\n",
              "      <th>Age</th>\n",
              "      <th>Employ</th>\n",
              "      <th>Address</th>\n",
              "      <th>Income</th>\n",
              "      <th>Leverage</th>\n",
              "      <th>Creddebt</th>\n",
              "      <th>OthDebt</th>\n",
              "      <th>MonthlyLoad</th>\n",
              "      <th>Default</th>\n",
              "    </tr>\n",
              "  </thead>\n",
              "  <tbody>\n",
              "    <tr>\n",
              "      <th>count</th>\n",
              "      <td>1489.000000</td>\n",
              "      <td>1489.000000</td>\n",
              "      <td>1489.000000</td>\n",
              "      <td>1489.000000</td>\n",
              "      <td>1489.000000</td>\n",
              "      <td>1489.000000</td>\n",
              "      <td>1489.000000</td>\n",
              "      <td>1489.000000</td>\n",
              "      <td>1489.000000</td>\n",
              "      <td>1489.000000</td>\n",
              "    </tr>\n",
              "    <tr>\n",
              "      <th>mean</th>\n",
              "      <td>257649.480188</td>\n",
              "      <td>34.003358</td>\n",
              "      <td>6.799866</td>\n",
              "      <td>6.233714</td>\n",
              "      <td>56.898590</td>\n",
              "      <td>9.904835</td>\n",
              "      <td>1.801370</td>\n",
              "      <td>3.664231</td>\n",
              "      <td>0.366850</td>\n",
              "      <td>0.361988</td>\n",
              "    </tr>\n",
              "    <tr>\n",
              "      <th>std</th>\n",
              "      <td>139646.983244</td>\n",
              "      <td>12.982437</td>\n",
              "      <td>8.765093</td>\n",
              "      <td>5.987928</td>\n",
              "      <td>55.062182</td>\n",
              "      <td>6.649132</td>\n",
              "      <td>2.340326</td>\n",
              "      <td>4.665854</td>\n",
              "      <td>0.294387</td>\n",
              "      <td>0.480737</td>\n",
              "    </tr>\n",
              "    <tr>\n",
              "      <th>min</th>\n",
              "      <td>10012.000000</td>\n",
              "      <td>18.000000</td>\n",
              "      <td>0.000000</td>\n",
              "      <td>0.000000</td>\n",
              "      <td>12.000000</td>\n",
              "      <td>0.000000</td>\n",
              "      <td>0.000000</td>\n",
              "      <td>0.000000</td>\n",
              "      <td>0.000000</td>\n",
              "      <td>0.000000</td>\n",
              "    </tr>\n",
              "    <tr>\n",
              "      <th>25%</th>\n",
              "      <td>98410.000000</td>\n",
              "      <td>24.000000</td>\n",
              "      <td>0.000000</td>\n",
              "      <td>2.000000</td>\n",
              "      <td>27.000000</td>\n",
              "      <td>4.800000</td>\n",
              "      <td>0.420000</td>\n",
              "      <td>1.100000</td>\n",
              "      <td>0.150000</td>\n",
              "      <td>0.000000</td>\n",
              "    </tr>\n",
              "    <tr>\n",
              "      <th>50%</th>\n",
              "      <td>316013.000000</td>\n",
              "      <td>31.000000</td>\n",
              "      <td>4.000000</td>\n",
              "      <td>5.000000</td>\n",
              "      <td>39.000000</td>\n",
              "      <td>8.500000</td>\n",
              "      <td>0.980000</td>\n",
              "      <td>2.200000</td>\n",
              "      <td>0.290000</td>\n",
              "      <td>0.000000</td>\n",
              "    </tr>\n",
              "    <tr>\n",
              "      <th>75%</th>\n",
              "      <td>370695.000000</td>\n",
              "      <td>41.000000</td>\n",
              "      <td>10.000000</td>\n",
              "      <td>9.000000</td>\n",
              "      <td>63.000000</td>\n",
              "      <td>13.500000</td>\n",
              "      <td>2.170000</td>\n",
              "      <td>4.500000</td>\n",
              "      <td>0.500000</td>\n",
              "      <td>1.000000</td>\n",
              "    </tr>\n",
              "    <tr>\n",
              "      <th>max</th>\n",
              "      <td>453777.000000</td>\n",
              "      <td>79.000000</td>\n",
              "      <td>63.000000</td>\n",
              "      <td>34.000000</td>\n",
              "      <td>533.000000</td>\n",
              "      <td>40.700000</td>\n",
              "      <td>19.050000</td>\n",
              "      <td>52.650000</td>\n",
              "      <td>2.150000</td>\n",
              "      <td>1.000000</td>\n",
              "    </tr>\n",
              "  </tbody>\n",
              "</table>\n",
              "</div>"
            ],
            "text/plain": [
              "            customer          Age  ...  MonthlyLoad      Default\n",
              "count    1489.000000  1489.000000  ...  1489.000000  1489.000000\n",
              "mean   257649.480188    34.003358  ...     0.366850     0.361988\n",
              "std    139646.983244    12.982437  ...     0.294387     0.480737\n",
              "min     10012.000000    18.000000  ...     0.000000     0.000000\n",
              "25%     98410.000000    24.000000  ...     0.150000     0.000000\n",
              "50%    316013.000000    31.000000  ...     0.290000     0.000000\n",
              "75%    370695.000000    41.000000  ...     0.500000     1.000000\n",
              "max    453777.000000    79.000000  ...     2.150000     1.000000\n",
              "\n",
              "[8 rows x 10 columns]"
            ]
          },
          "metadata": {
            "tags": []
          },
          "execution_count": 22
        }
      ]
    },
    {
      "cell_type": "markdown",
      "metadata": {
        "id": "mPDWYQFymRX1"
      },
      "source": [
        "Much better, although income still has a large outlier. This plot might be misleading though, as the magnitud of the data is relevant. We might want to recheck this after normalizing the data. We will now save the output to a compressed format which is very efficient to start whole data structures, [pickle](https://pandas.pydata.org/pandas-docs/stable/reference/api/pandas.DataFrame.to_pickle.html)."
      ]
    },
    {
      "cell_type": "code",
      "metadata": {
        "id": "4V1InwIQIM9J"
      },
      "source": [
        "bankloan_data.to_pickle('BankloanClean.pkl')"
      ],
      "execution_count": null,
      "outputs": []
    },
    {
      "cell_type": "markdown",
      "metadata": {
        "id": "IwSEaeGlmFzO"
      },
      "source": [
        "## Normalization\n",
        "\n",
        "Most models require the inputs to be in the same scale, this is called **normalization**. It is very important for most models... except for credit scoring as we will use Weight of Evidence (see the lecture!). Still, this is fairly simple to do in Pandas, being smart about what columns we select and **mapping** a function to those columns.\n",
        "\n",
        "The most traditional mapping is the zscore. We can use scipy's version of it. \n",
        "\n"
      ]
    },
    {
      "cell_type": "code",
      "metadata": {
        "id": "9E_PSudynST3"
      },
      "source": [
        "from scipy.stats import zscore"
      ],
      "execution_count": null,
      "outputs": []
    },
    {
      "cell_type": "markdown",
      "metadata": {
        "id": "oEFMdbTMnW68"
      },
      "source": [
        "We now select all numeric columns, except the customer one. We can do this with ```select_dtypes```."
      ]
    },
    {
      "cell_type": "code",
      "metadata": {
        "id": "D0I8jDLlm6vM"
      },
      "source": [
        "# Identify the numerical columns\n",
        "numeric_cols = bankloan_data.select_dtypes(include=[np.number]).columns\n",
        "numeric_cols "
      ],
      "execution_count": null,
      "outputs": []
    },
    {
      "cell_type": "code",
      "metadata": {
        "id": "QAmoNyjxny0G"
      },
      "source": [
        "# Remove the first and last one\n",
        "numeric_cols = numeric_cols[1:-1]"
      ],
      "execution_count": null,
      "outputs": []
    },
    {
      "cell_type": "code",
      "metadata": {
        "id": "k1ETL7-Nn11u"
      },
      "source": [
        "# Apply the zscore function to all data\n",
        "bankloan_data[numeric_cols] = bankloan_data[numeric_cols].apply(zscore)"
      ],
      "execution_count": null,
      "outputs": []
    },
    {
      "cell_type": "markdown",
      "metadata": {
        "id": "StvuqRWApixH"
      },
      "source": [
        "Now the data should look much better."
      ]
    },
    {
      "cell_type": "code",
      "metadata": {
        "id": "JrahcfLIoN45"
      },
      "source": [
        "fig, ax = plt.subplots(figsize=(10,5))\n",
        "a = sns.violinplot(x='variable', y='value', data=pd.melt(bankloan_data.iloc[:, np.r_[1,3:9]]), ax=ax)\n",
        "a.set_xticklabels(a.get_xticklabels(), rotation=90);"
      ],
      "execution_count": null,
      "outputs": []
    },
    {
      "cell_type": "markdown",
      "metadata": {
        "id": "h9o6wiTXdlsv"
      },
      "source": [
        "The dataset looks really clean now. We are ready to use further models! To be 100% purist **you should first split between train and test set** before doing all of these analyses (so you should use the median of the train set). Please remember that when solving your coursework."
      ]
    },
    {
      "cell_type": "markdown",
      "metadata": {
        "id": "7F6iCmc-oTb_"
      },
      "source": [
        "## Self-study: Dummy coding\n",
        "\n",
        "The final step will be transform the categorical variables to dummy variables. Again, this is **not necessary for credit scoring** as the WoE transform is much more robust. The best strategy here is to follow the 5% rule:\n",
        "\n",
        "1. Aggregate by expert judgement (i.e. your opinion) until each group has more than 5% of data (1% if very large data) and there are all classes (by target variable) present.\n",
        "\n",
        "2. Use target variable percentage (or classification trees) until you get a proper number of groups.\n",
        "\n",
        "To check the number of cases for each default level, we can calculate a crosstab."
      ]
    },
    {
      "cell_type": "code",
      "metadata": {
        "id": "Tnu4zQW0oSMP"
      },
      "source": [
        "pd.crosstab(bankloan_data['Education'], bankloan_data['Default'])"
      ],
      "execution_count": null,
      "outputs": []
    },
    {
      "cell_type": "markdown",
      "metadata": {
        "id": "MJ_jTjWOrw-o"
      },
      "source": [
        "Now we can calculate the mean of each educational level."
      ]
    },
    {
      "cell_type": "code",
      "metadata": {
        "id": "4xFFkNvLqz61"
      },
      "source": [
        "bankloan_data.groupby('Education', as_index=False).agg({'Default': [\"mean\"]})"
      ],
      "execution_count": null,
      "outputs": []
    },
    {
      "cell_type": "markdown",
      "metadata": {
        "id": "NJ__rGzgskpG"
      },
      "source": [
        "We could, if we wanted to, group together some educational levels, such as '1upInc', 'Med', and 'Posg'. If not, we can create dummy variables directly with Pandas ```get_dummies```"
      ]
    },
    {
      "cell_type": "code",
      "metadata": {
        "id": "RsntGOQ4sjtN"
      },
      "source": [
        "bankloan_data = pd.get_dummies(bankloan_data)\n",
        "bankloan_data.describe()"
      ],
      "execution_count": null,
      "outputs": []
    },
    {
      "cell_type": "markdown",
      "metadata": {
        "id": "VCaA3YQStIc2"
      },
      "source": [
        "Now we are ready to apply general models!"
      ]
    }
  ]
}